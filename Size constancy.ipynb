{
 "cells": [
  {
   "cell_type": "code",
   "execution_count": 1,
   "id": "c552e0bc-f1d2-4282-8374-73f672682920",
   "metadata": {},
   "outputs": [],
   "source": [
    "import jax.numpy as np\n",
    "import jax\n",
    "from jax.config import config\n",
    "# config.update(\"jax_debug_nans\", True)  # https://github.com/google/jax/issues/475#issuecomment-470417985\n",
    "config.update('jax_platform_name', 'cpu')  # https://github.com/google/jax/issues/1598#issuecomment-718621972\n",
    "# config.update('jax_disable_jit', True)\n",
    "\n",
    "from matplotlib import pyplot as plt\n",
    "from tqdm.notebook import tqdm\n",
    "\n",
    "import razor"
   ]
  },
  {
   "cell_type": "code",
   "execution_count": 2,
   "id": "2cd1bad5-1b3e-429e-a78a-e6915e5f0347",
   "metadata": {},
   "outputs": [],
   "source": [
    "def make_table_3d():\n",
    "    return np.array([\n",
    "        [-1, -1, 1, 1],\n",
    "        [-1, +1, 1, 1],\n",
    "        [+1, +1, 1, 1],\n",
    "        [+1, -1, 1, 1],\n",
    "        [-1, -1, 0, 1],\n",
    "        [-1, +1, 0, 1],\n",
    "        [+1, +1, 0, 1],\n",
    "        [+1, -1, 0, 1]\n",
    "    ])\n",
    "\n",
    "def t_translate(xyz):\n",
    "    return np.array([\n",
    "        [1, 0, 0, xyz[0]],\n",
    "        [0, 1, 0, xyz[1]],\n",
    "        [0, 0, 1, xyz[2]],\n",
    "        [0, 0, 0, 1]\n",
    "    ])\n",
    "\n",
    "def t_scale(xyz):\n",
    "    return np.array([\n",
    "        [xyz[0], 0, 0, 0],\n",
    "        [0, xyz[1], 0, 0],\n",
    "        [0, 0, xyz[2], 0],\n",
    "        [0, 0, 0, 1]\n",
    "    ])\n",
    "\n",
    "def t_rotate_x(theta):\n",
    "    return np.array([\n",
    "        [1, 0, 0, 0],\n",
    "        [0, np.cos(theta), -np.sin(theta), 0],\n",
    "        [0, np.sin(theta), +np.cos(theta), 0],\n",
    "        [0, 0, 0, 1]\n",
    "    ])\n",
    "\n",
    "def t_rotate_y(theta):\n",
    "    return np.array([\n",
    "        [np.cos(theta), 0, -np.sin(theta), 0],\n",
    "        [0, 1, 0, 0],\n",
    "        [np.sin(theta), 0, +np.sin(theta), 0],\n",
    "        [0, 0, 0, 1]\n",
    "    ])\n",
    "\n",
    "def t_rotate_z(theta):\n",
    "    return np.array([\n",
    "        [np.cos(theta), -np.sin(theta), 0, 0],\n",
    "        [np.sin(theta), +np.cos(theta), 0, 0],\n",
    "        [0, 0, 1, 0],\n",
    "        [0, 0, 0, 1]\n",
    "    ])\n",
    "\n",
    "def normalize(v):\n",
    "    return v / np.linalg.norm(v)\n",
    "\n",
    "def t_lookat(cam, pts, up):\n",
    "    up = up[:3]\n",
    "    z = normalize(pts - cam)[:3]\n",
    "    x = normalize(np.cross(normalize(up), z))\n",
    "    y = np.cross(z, x)\n",
    "    \n",
    "    c2w = np.array([\n",
    "        [x[0], y[0], z[0], cam[0]],\n",
    "        [x[1], y[1], z[1], cam[1]],\n",
    "        [x[2], y[2], z[2], cam[2]],\n",
    "        [0, 0, 0, 1]\n",
    "    ])\n",
    "    w2c = np.linalg.inv(c2w)\n",
    "    return w2c\n",
    "\n",
    "def perspective(pts, fov, n, f):\n",
    "    z = pts[:, 2]\n",
    "    x = pts[:, 0] / z\n",
    "    y = pts[:, 1] / z\n",
    "    z = f * (z - n) / (z * (f - n))\n",
    "    w = np.ones_like(z)\n",
    "    xyz = np.stack([x, y, z, w], axis=1)\n",
    "\n",
    "    it = 1 / np.tan(fov / 2)\n",
    "    s = t_scale(np.array([it, it, 1]))\n",
    "    scaled = t_apply(xyz, s)\n",
    "    squash = scaled.at[:, 2].set(0.)\n",
    "    return squash\n",
    "\n",
    "def t_apply(v, *ts):\n",
    "    v = np.transpose(v)\n",
    "    for t in ts:\n",
    "        v = np.matmul(t, v)\n",
    "    return np.transpose(v)"
   ]
  },
  {
   "cell_type": "code",
   "execution_count": 3,
   "id": "0e5a0252-d539-4e39-839a-4581b0adaa53",
   "metadata": {},
   "outputs": [],
   "source": [
    "def render_table_3d(t, color='k', legs=True, frame=True):\n",
    "    plt.axis('equal')\n",
    "    plt.axis('off')\n",
    "    plt.plot(t[0:4, 0], t[0:4, 1], f'{color}-', linewidth=4.)\n",
    "    plt.plot(t[(3, 0), 0], t[(3, 0), 1], f'{color}-', linewidth=4.)\n",
    "    if legs:\n",
    "        for i in range(4):\n",
    "            plt.plot(t[(i, i + 4), 0], t[(i, i + 4), 1], f'{color}-', linewidth=4.)\n",
    "    if frame:\n",
    "        plt.plot([-1, -1, 1, 1, -1], [-1, 1, 1, -1, -1], 'y--', linewidth=1.)"
   ]
  },
  {
   "cell_type": "code",
   "execution_count": 4,
   "id": "aa042d2d-8980-4fcc-8708-1063f154e558",
   "metadata": {},
   "outputs": [],
   "source": [
    "@jax.jit\n",
    "def table_from_params(scale, wiggle, translate, campos, fov):\n",
    "    table = make_table_3d() * 1.0\n",
    "    table = table.at[:, :2].add(wiggle)\n",
    "    table = t_apply(\n",
    "        table,\n",
    "        t_scale(scale),\n",
    "        t_translate(np.concatenate([translate, np.zeros((1,))])),\n",
    "        t_lookat(\n",
    "            np.concatenate([campos, np.ones((1,))]),\n",
    "            np.array([0, 0, 0, 1.]),\n",
    "            np.array([0, 0, 1, 0.])\n",
    "        )\n",
    "    )\n",
    "    table = perspective(table, fov * np.pi / 180, 0., 1.)\n",
    "    return table[:, (0, 1)]"
   ]
  },
  {
   "cell_type": "code",
   "execution_count": 5,
   "id": "21db49dc-d99d-4350-bc4e-f2eda82bf364",
   "metadata": {},
   "outputs": [],
   "source": [
    "dummy = np.zeros(shape=(8, 2))\n",
    "\n",
    "class table(razor.Model):\n",
    "    def forward(self, t, obss):\n",
    "        r = t.uniform_sample(()) * 8. + 8.\n",
    "        theta = t.uniform_sample(()) * np.pi * 2  # previously / 2\n",
    "        h = t.gaussian_sample(()) * 3.\n",
    "        fov = t.gaussian_sample(()) * 5 + 45.\n",
    "        campos = np.array([\n",
    "            np.cos(theta) * r,\n",
    "            np.sin(theta) * r,\n",
    "            h\n",
    "        ])\n",
    "\n",
    "        gens = []\n",
    "        ss = []\n",
    "        for obs in obss:\n",
    "            s = t.uniform_sample((3,)) * np.array([3.5, 3.5, 3.5]) + np.array([0.5, 0.5, 0.5])\n",
    "            gen = table_from_params(\n",
    "                scale=s,\n",
    "                wiggle=t.gaussian_sample((8, 2)) * 0.01,\n",
    "                translate=t.gaussian_sample((2,)) * 2.,\n",
    "                campos=campos,\n",
    "                fov=fov\n",
    "            )\n",
    "            t.gaussian_observe(gen, 0.01, obs)\n",
    "            gens.append(gen)\n",
    "            ss.append(s)\n",
    "        return gens, ss\n",
    "m = table([dummy, dummy])"
   ]
  },
  {
   "cell_type": "code",
   "execution_count": 6,
   "id": "e1c93b8f-2477-4de0-8566-d63aaf517a15",
   "metadata": {},
   "outputs": [
    {
     "data": {
      "application/vnd.jupyter.widget-view+json": {
       "model_id": "8d7260a8417d43b887a15a3a535ad3c2",
       "version_major": 2,
       "version_minor": 0
      },
      "text/plain": [
       "  0%|          | 0/36 [00:00<?, ?it/s]"
      ]
     },
     "metadata": {},
     "output_type": "display_data"
    },
    {
     "data": {
      "text/plain": [
       "Text(0.5, 0.98, 'Unconditional samples')"
      ]
     },
     "execution_count": 6,
     "metadata": {},
     "output_type": "execute_result"
    },
    {
     "data": {
      "image/png": "[encoded data removed]",
      "text/plain": [
       "<Figure size 432x432 with 36 Axes>"
      ]
     },
     "metadata": {
      "needs_background": "light"
     },
     "output_type": "display_data"
    }
   ],
   "source": [
    "plt.figure(figsize=(6, 6))\n",
    "for i in tqdm(range(36)):\n",
    "    plt.subplot(6, 6, i + 1)\n",
    "    render_table_3d(\n",
    "        m.unpack(\n",
    "            jax.random.normal(key=jax.random.PRNGKey(i), shape=(m.N,)),\n",
    "            [dummy, dummy]\n",
    "        )[0][0],\n",
    "        color='k'\n",
    "    )\n",
    "    render_table_3d(\n",
    "        m.unpack(\n",
    "            jax.random.normal(key=jax.random.PRNGKey(i), shape=(m.N,)),\n",
    "            [dummy, dummy]\n",
    "        )[0][1],\n",
    "        color='k'\n",
    "    )\n",
    "plt.suptitle('Unconditional samples')"
   ]
  },
  {
   "cell_type": "code",
   "execution_count": 7,
   "id": "1afc690b-18c4-4123-bfdc-24933b1b68a5",
   "metadata": {},
   "outputs": [
    {
     "data": {
      "image/png": "[encoded data removed]",
      "text/plain": [
       "<Figure size 432x288 with 1 Axes>"
      ]
     },
     "metadata": {
      "needs_background": "light"
     },
     "output_type": "display_data"
    }
   ],
   "source": [
    "key = jax.random.PRNGKey(0)\n",
    "\n",
    "key, subkey = jax.random.split(key)\n",
    "obs, obs_s = m.unpack(\n",
    "    jax.random.normal(key=subkey, shape=(m.N,)),\n",
    "    [dummy, dummy]\n",
    ")\n",
    "render_table_3d(obs[0], 'k')\n",
    "render_table_3d(obs[1], 'k')\n",
    "\n",
    "key, subkey = jax.random.split(key)\n",
    "q0 = jax.random.normal(key=subkey, shape=(m.N,))\n",
    "\n",
    "key, subkey = jax.random.split(key)\n",
    "samples = razor.hmc_sample(m, q0, subkey, 100, 20, 0, 1e-3, obs)"
   ]
  },
  {
   "cell_type": "code",
   "execution_count": 8,
   "id": "fe4c0a6e-071d-42ee-9444-667ed60b979b",
   "metadata": {},
   "outputs": [
    {
     "data": {
      "text/plain": [
       "Text(0.5, 0.98, 'Inference trajectory samples')"
      ]
     },
     "execution_count": 8,
     "metadata": {},
     "output_type": "execute_result"
    },
    {
     "data": {
      "image/png": "[encoded data removed]",
      "text/plain": [
       "<Figure size 432x432 with 4 Axes>"
      ]
     },
     "metadata": {
      "needs_background": "light"
     },
     "output_type": "display_data"
    }
   ],
   "source": [
    "plt.figure(figsize=(6, 6))\n",
    "for i in range(4):\n",
    "    plt.subplot(2, 2, i + 1)\n",
    "    for j in range(25):\n",
    "        render_table_3d(\n",
    "            m.unpack(samples[i * 25 + j], [dummy, dummy])[0][0],\n",
    "            color='g'\n",
    "        )\n",
    "        render_table_3d(\n",
    "            m.unpack(samples[i * 25 + j], [dummy, dummy])[0][1],\n",
    "            color='g'\n",
    "        )\n",
    "    render_table_3d(\n",
    "        obs[0], color='k'\n",
    "    )\n",
    "    render_table_3d(\n",
    "        obs[1], color='k'\n",
    "    )\n",
    "    plt.title(f'Samples {i * 25} - {(i + 1) * 25}')\n",
    "plt.suptitle('Inference trajectory samples')"
   ]
  },
  {
   "cell_type": "code",
   "execution_count": 9,
   "id": "76908279-0ce5-4c9d-a9f7-469cdc89d325",
   "metadata": {},
   "outputs": [
    {
     "data": {
      "application/vnd.jupyter.widget-view+json": {
       "model_id": "",
       "version_major": 2,
       "version_minor": 0
      },
      "text/plain": [
       "  0%|          | 0/81 [00:00<?, ?it/s]"
      ]
     },
     "metadata": {},
     "output_type": "display_data"
    },
    {
     "data": {
      "application/vnd.jupyter.widget-view+json": {
       "model_id": "",
       "version_major": 2,
       "version_minor": 0
      },
      "text/plain": [
       "  0%|          | 0/30 [00:00<?, ?it/s]"
      ]
     },
     "metadata": {},
     "output_type": "display_data"
    }
   ],
   "source": [
    "def diag(s):\n",
    "    return np.sqrt(s[0] ** 2 + s[1] ** 2)\n",
    "\n",
    "def loss(key, obs_p, q0, q0_):\n",
    "    obss, ss = m.unpack(obs_p, [dummy, dummy])\n",
    "    key, subkey = jax.random.split(key)\n",
    "    samples = razor.hmc_sample(m, q0, subkey, 100, 20, 0, 1e-3, obss)\n",
    "    inf, inf_s = m.unpack(samples[:].mean(axis=0), obss)\n",
    "\n",
    "\n",
    "    obss_, ss_ = m.unpack(obs_p.at[2].add(+4.), [dummy, dummy])\n",
    "    key, subkey = jax.random.split(key)\n",
    "    samples_ = razor.hmc_sample(m, q0_, subkey, 100, 20, 0, 1e-3, obss_)\n",
    "    inf_, inf_s_ = m.unpack(samples_[:].mean(axis=0), obss_)\n",
    "\n",
    "    l = 0.\n",
    "    l = l - (diag(samples_[:, (44, 45)].mean(axis=0)) - diag(samples[:, (44, 45)].mean(axis=0)))\n",
    "\n",
    "    return l, (obss, samples, samples_)\n",
    "dloss = jax.value_and_grad(loss, argnums=(1,), has_aux=True)\n",
    "\n",
    "\n",
    "for seed in [12]:#tqdm(range(100)):\n",
    "    key = jax.random.PRNGKey(seed)\n",
    "\n",
    "    key, subkey = jax.random.split(key)\n",
    "    obs_p = jax.random.normal(subkey, shape=(m.N,))\n",
    "\n",
    "    q0 = obs_p\n",
    "    q0_ = obs_p.at[2].add(+4.)\n",
    "\n",
    "    import optax\n",
    "    opt = optax.adam(learning_rate=0.05)\n",
    "    opts = opt.init(obs_p)\n",
    "\n",
    "    for i in tqdm(range(80 + 1), leave=False):\n",
    "        key, subkey = jax.random.split(key)\n",
    "        (l, (obss, samples, samples_)), (dl,) = dloss(subkey, obs_p, q0, q0_)\n",
    "        q0 = samples[-1]\n",
    "        q0_ = samples_[-1]\n",
    "\n",
    "        if i > 10:\n",
    "    #         obs_p = obs_p - dl * 1e0\n",
    "            optu, opts = opt.update(dl, opts)\n",
    "            obs_p = optax.apply_updates(obs_p, optu)\n",
    "\n",
    "        if i % 10 == 0:\n",
    "#             print(i, l, np.abs(dl).max())\n",
    "            plt.figure(figsize=(6, 3))\n",
    "            plt.subplot(1, 3, 1)\n",
    "            render_table_3d(obss[0], color='r')\n",
    "            render_table_3d(obss[1], color='b')\n",
    "            render_table_3d(m.unpack(samples[-1], obss)[0][0], color='y-')\n",
    "            render_table_3d(m.unpack(samples[-1], obss)[0][1], color='y-')\n",
    "            plt.subplot(1, 3, 2)\n",
    "            render_table_3d(m.unpack(obs_p.at[2].add(+4.), obss)[0][0], color='r')\n",
    "            render_table_3d(m.unpack(obs_p.at[2].add(+4.), obss)[0][1], color='b')\n",
    "            render_table_3d(m.unpack(samples_[-1], obss)[0][0], color='y-')\n",
    "            render_table_3d(m.unpack(samples_[-1], obss)[0][1], color='y-')\n",
    "            plt.subplot(1, 3, 3)\n",
    "            render_table_3d(m.unpack(samples[-1].at[2].add(+4.), obss)[0][0], color='r')\n",
    "            render_table_3d(m.unpack(samples[-1].at[2].add(+4.), obss)[0][1], color='b')\n",
    "            plt.suptitle(f'Seed {seed}, after {i} steps, loss {l}')\n",
    "            plt.savefig(f'out/size-constancy/{seed:02}-{i:03}.jpg')\n",
    "            plt.close()\n",
    "            \n",
    "            \n",
    "    for j, h in enumerate(tqdm(np.linspace(0, +4, 30), leave=False)):\n",
    "        plt.figure()\n",
    "        render_table_3d(m.unpack(obs_p.at[2].add(h), obss)[0][0], color='k', frame=False)\n",
    "        render_table_3d(m.unpack(obs_p.at[2].add(h), obss)[0][1], color='k', frame=False)\n",
    "        plt.savefig(f'out/size-constancy/vid/{seed:02}-A-{j:02}.jpg')\n",
    "        plt.close()\n",
    "\n",
    "        plt.figure()\n",
    "        render_table_3d(m.unpack(samples[-1].at[2].add(h), obss)[0][0], color='k', frame=False)\n",
    "        render_table_3d(m.unpack(samples[-1].at[2].add(h), obss)[0][1], color='k', frame=False)\n",
    "        plt.savefig(f'out/size-constancy/vid/{seed:02}-B-{j:02}.jpg')\n",
    "        plt.close()\n",
    "        \n",
    "        import os\n",
    "        os.system(f'convert out/size-constancy/vid/{seed:02}-A-*.jpg out/size-constancy/vid/{seed:02}-A.gif');\n",
    "        os.system(f'convert out/size-constancy/vid/{seed:02}-B-*.jpg out/size-constancy/vid/{seed:02}-B.gif');"
   ]
  }
 ],
 "metadata": {
  "kernelspec": {
   "display_name": "Python 3 (ipykernel)",
   "language": "python",
   "name": "python3"
  },
  "language_info": {
   "codemirror_mode": {
    "name": "ipython",
    "version": 3
   },
   "file_extension": ".py",
   "mimetype": "text/x-python",
   "name": "python",
   "nbconvert_exporter": "python",
   "pygments_lexer": "ipython3",
   "version": "3.9.5"
  }
 },
 "nbformat": 4,
 "nbformat_minor": 5
}
