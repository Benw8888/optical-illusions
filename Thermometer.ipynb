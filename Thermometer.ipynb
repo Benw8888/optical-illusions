{
 "cells": [
  {
   "cell_type": "code",
   "execution_count": 1,
   "id": "ff6fcf70-9d16-49c5-a16f-eb4132cf8c2c",
   "metadata": {},
   "outputs": [],
   "source": [
    "import jax.numpy as np\n",
    "import jax\n",
    "jax.config.update(\"jax_debug_nans\", True)\n",
    "jax.config.update('jax_platform_name', 'cpu')\n",
    "\n",
    "from matplotlib import pyplot as plt\n",
    "from tqdm.notebook import tqdm"
   ]
  },
  {
   "cell_type": "code",
   "execution_count": 2,
   "id": "24da1605-0783-462c-b466-840f1687fd36",
   "metadata": {},
   "outputs": [],
   "source": [
    "import razor\n",
    "\n",
    "class model(razor.Model):\n",
    "    def forward(self, t, m):  # here, \"t\" is the \"trace\" object used by the PPL's compiler\n",
    "        T = t.gaussian_sample((), 70., 5)\n",
    "        t.gaussian_observe(T, 2., m)\n",
    "model = model(0.)  # 0. is a dummy value for m, just used for shape inference"
   ]
  },
  {
   "cell_type": "code",
   "execution_count": 3,
   "id": "fe1b1431-2436-4674-9b89-556ca63b83cf",
   "metadata": {},
   "outputs": [
    {
     "name": "stdout",
     "output_type": "stream",
     "text": [
      "E[T | M=100] ~= 95.95879364013672\n"
     ]
    },
    {
     "data": {
      "image/png": "[encoded data removed]",
      "text/plain": [
       "<Figure size 432x288 with 1 Axes>"
      ]
     },
     "metadata": {
      "needs_background": "light"
     },
     "output_type": "display_data"
    }
   ],
   "source": [
    "q0 = np.zeros(model.N)\n",
    "key = jax.random.PRNGKey(0)\n",
    "samples = razor.hmc_sample(\n",
    "    model, q0, key, 1000, 300, 0, 1e-2,  # hyperparameters\n",
    "    100.  # value of M to condition on\n",
    ")\n",
    "plt.hist(samples[100:, 0], bins=20); plt.title('Distribution of T | M = 100')\n",
    "print(f'E[T | M=100] ~= {samples[100:, 0].mean()}')"
   ]
  },
  {
   "cell_type": "code",
   "execution_count": 4,
   "id": "5fb33df3-4d2d-47d5-a537-b85d387c9a9c",
   "metadata": {},
   "outputs": [
    {
     "data": {
      "application/vnd.jupyter.widget-view+json": {
       "model_id": "874e6c17d34c4e9b9caeecb67bb9e8fb",
       "version_major": 2,
       "version_minor": 0
      },
      "text/plain": [
       "  0%|          | 0/100 [00:00<?, ?it/s]"
      ]
     },
     "metadata": {},
     "output_type": "display_data"
    },
    {
     "name": "stdout",
     "output_type": "stream",
     "text": [
      "Step  0: E[T | M=  0.000] ~=   9.595 (loss = 8173.0127)\n",
      "Step  1: E[T | M= 15.587] ~=  23.053 (loss = 5920.8770)\n",
      "Step  2: E[T | M= 28.854] ~=  34.511 (loss = 4288.8687)\n",
      "Step  3: E[T | M= 40.145] ~=  44.147 (loss = 3119.5610)\n",
      "Step  4: E[T | M= 49.775] ~=  52.580 (loss = 2248.6382)\n",
      "Step  5: E[T | M= 57.950] ~=  59.614 (loss = 1630.9949)\n",
      "Step  6: E[T | M= 64.913] ~=  65.585 (loss = 1184.3597)\n",
      "Step  7: E[T | M= 70.847] ~=  70.731 (loss =  856.6827)\n",
      "Step  8: E[T | M= 75.893] ~=  75.094 (loss =  620.3095)\n",
      "Step  9: E[T | M= 80.188] ~=  78.922 (loss =  444.2906)\n",
      "Step 10: E[T | M= 83.822] ~=  81.859 (loss =  329.0795)\n",
      "Step 11: E[T | M= 86.950] ~=  84.592 (loss =  237.3998)\n",
      "Step 12: E[T | M= 89.606] ~=  86.905 (loss =  171.4823)\n",
      "Step 13: E[T | M= 91.864] ~=  88.772 (loss =  126.0592)\n",
      "Step 14: E[T | M= 93.800] ~=  90.447 (loss =   91.2534)\n",
      "Step 15: E[T | M= 95.447] ~=  91.966 (loss =   64.5433)\n",
      "Step 16: E[T | M= 96.832] ~=  93.105 (loss =   47.5423)\n",
      "Step 17: E[T | M= 98.021] ~=  94.152 (loss =   34.1955)\n",
      "Step 18: E[T | M= 99.029] ~=  94.956 (loss =   25.4371)\n",
      "Step 19: E[T | M= 99.898] ~=  95.878 (loss =   16.9900)\n",
      "Step 20: E[T | M=100.609] ~=  96.345 (loss =   13.3561)\n",
      "Step 21: E[T | M=101.239] ~=  96.870 (loss =    9.7977)\n",
      "Step 22: E[T | M=101.779] ~=  97.434 (loss =    6.5867)\n",
      "Step 23: E[T | M=102.221] ~=  97.727 (loss =    5.1670)\n",
      "Step 24: E[T | M=102.613] ~=  98.137 (loss =    3.4704)\n",
      "Step 25: E[T | M=102.934] ~=  98.485 (loss =    2.2944)\n",
      "Step 26: E[T | M=103.196] ~=  98.650 (loss =    1.8217)\n",
      "Step 27: E[T | M=103.428] ~=  98.819 (loss =    1.3937)\n",
      "Step 28: E[T | M=103.632] ~=  99.034 (loss =    0.9326)\n",
      "Step 29: E[T | M=103.798] ~=  99.168 (loss =    0.6929)\n",
      "Step 30: E[T | M=103.942] ~=  99.259 (loss =    0.5485)\n",
      "Step 31: E[T | M=104.070] ~=  99.334 (loss =    0.4435)\n",
      "Step 32: E[T | M=104.184] ~=  99.567 (loss =    0.1875)\n",
      "Step 33: E[T | M=104.259] ~=  99.532 (loss =    0.2190)\n",
      "Step 34: E[T | M=104.340] ~=  99.564 (loss =    0.1904)\n",
      "Step 35: E[T | M=104.415] ~=  99.599 (loss =    0.1604)\n",
      "Step 36: E[T | M=104.484] ~=  99.746 (loss =    0.0645)\n",
      "Step 37: E[T | M=104.528] ~=  99.681 (loss =    0.1020)\n",
      "Step 38: E[T | M=104.583] ~=  99.832 (loss =    0.0282)\n",
      "Step 39: E[T | M=104.612] ~=  99.810 (loss =    0.0362)\n",
      "Step 40: E[T | M=104.645] ~=  99.864 (loss =    0.0184)\n",
      "Step 41: E[T | M=104.668] ~=  99.976 (loss =    0.0006)\n",
      "Step 42: E[T | M=104.672] ~=  99.938 (loss =    0.0039)\n",
      "Step 43: E[T | M=104.683] ~=  99.877 (loss =    0.0152)\n",
      "Step 44: E[T | M=104.704] ~= 100.027 (loss =    0.0007)\n",
      "Step 45: E[T | M=104.699] ~=  99.883 (loss =    0.0137)\n",
      "Step 46: E[T | M=104.720] ~= 100.042 (loss =    0.0018)\n",
      "Step 47: E[T | M=104.712] ~=  99.789 (loss =    0.0443)\n",
      "Step 48: E[T | M=104.749] ~=  99.970 (loss =    0.0009)\n",
      "Step 49: E[T | M=104.754] ~=  99.839 (loss =    0.0259)\n",
      "Step 50: E[T | M=104.782] ~= 100.052 (loss =    0.0027)\n",
      "Step 51: E[T | M=104.773] ~= 100.044 (loss =    0.0019)\n",
      "Step 52: E[T | M=104.765] ~= 100.025 (loss =    0.0006)\n",
      "Step 53: E[T | M=104.761] ~= 100.064 (loss =    0.0041)\n",
      "Step 54: E[T | M=104.750] ~=  99.970 (loss =    0.0009)\n",
      "Step 55: E[T | M=104.755] ~=  99.874 (loss =    0.0160)\n",
      "Step 56: E[T | M=104.777] ~=  99.952 (loss =    0.0024)\n",
      "Step 57: E[T | M=104.785] ~=  99.867 (loss =    0.0176)\n",
      "Step 58: E[T | M=104.808] ~=  99.945 (loss =    0.0030)\n",
      "Step 59: E[T | M=104.817] ~=  99.963 (loss =    0.0014)\n",
      "Step 60: E[T | M=104.824] ~= 100.172 (loss =    0.0298)\n",
      "Step 61: E[T | M=104.794] ~=  99.939 (loss =    0.0038)\n",
      "Step 62: E[T | M=104.805] ~=  99.976 (loss =    0.0006)\n",
      "Step 63: E[T | M=104.809] ~= 100.181 (loss =    0.0328)\n",
      "Step 64: E[T | M=104.778] ~=  99.899 (loss =    0.0103)\n",
      "Step 65: E[T | M=104.795] ~=  99.873 (loss =    0.0160)\n",
      "Step 66: E[T | M=104.817] ~= 100.030 (loss =    0.0009)\n",
      "Step 67: E[T | M=104.812] ~= 100.001 (loss =    0.0000)\n",
      "Step 68: E[T | M=104.812] ~=  99.917 (loss =    0.0069)\n",
      "Step 69: E[T | M=104.826] ~= 100.015 (loss =    0.0002)\n",
      "Step 70: E[T | M=104.823] ~= 100.060 (loss =    0.0036)\n",
      "Step 71: E[T | M=104.813] ~=  99.951 (loss =    0.0024)\n",
      "Step 72: E[T | M=104.821] ~= 100.011 (loss =    0.0001)\n",
      "Step 73: E[T | M=104.819] ~=  99.950 (loss =    0.0025)\n",
      "Step 74: E[T | M=104.828] ~=  99.960 (loss =    0.0016)\n",
      "Step 75: E[T | M=104.835] ~= 100.047 (loss =    0.0022)\n",
      "Step 76: E[T | M=104.827] ~= 100.086 (loss =    0.0073)\n",
      "Step 77: E[T | M=104.812] ~=  99.971 (loss =    0.0008)\n",
      "Step 78: E[T | M=104.817] ~= 100.009 (loss =    0.0001)\n",
      "Step 79: E[T | M=104.815] ~= 100.076 (loss =    0.0058)\n",
      "Step 80: E[T | M=104.802] ~=  99.974 (loss =    0.0007)\n",
      "Step 81: E[T | M=104.807] ~=  99.870 (loss =    0.0170)\n",
      "Step 82: E[T | M=104.829] ~= 100.177 (loss =    0.0315)\n",
      "Step 83: E[T | M=104.799] ~= 100.029 (loss =    0.0008)\n",
      "Step 84: E[T | M=104.794] ~= 100.002 (loss =    0.0000)\n",
      "Step 85: E[T | M=104.793] ~=  99.997 (loss =    0.0000)\n",
      "Step 86: E[T | M=104.794] ~= 100.071 (loss =    0.0051)\n",
      "Step 87: E[T | M=104.782] ~=  99.861 (loss =    0.0192)\n",
      "Step 88: E[T | M=104.805] ~= 100.058 (loss =    0.0034)\n",
      "Step 89: E[T | M=104.795] ~=  99.957 (loss =    0.0018)\n",
      "Step 90: E[T | M=104.803] ~=  99.968 (loss =    0.0010)\n",
      "Step 91: E[T | M=104.808] ~=  99.916 (loss =    0.0070)\n",
      "Step 92: E[T | M=104.823] ~=  99.979 (loss =    0.0004)\n",
      "Step 93: E[T | M=104.826] ~= 100.045 (loss =    0.0020)\n",
      "Step 94: E[T | M=104.819] ~= 100.038 (loss =    0.0014)\n",
      "Step 95: E[T | M=104.812] ~= 100.061 (loss =    0.0037)\n",
      "Step 96: E[T | M=104.802] ~=  99.939 (loss =    0.0038)\n",
      "Step 97: E[T | M=104.812] ~= 100.053 (loss =    0.0028)\n",
      "Step 98: E[T | M=104.803] ~=  99.996 (loss =    0.0000)\n",
      "Step 99: E[T | M=104.804] ~= 100.078 (loss =    0.0061)\n"
     ]
    }
   ],
   "source": [
    "# Loss function. q0 is the initial particle state for HMC.\n",
    "def loss(m, key, q0):\n",
    "    samples = razor.hmc_sample(model, q0, key, 1000, 300, 0, 1e-2, m)\n",
    "    samples = samples[100:]\n",
    "    mu = samples.mean()\n",
    "    return (mu - 100.0) ** 2, samples\n",
    "dloss = jax.value_and_grad(loss, argnums=0, has_aux=True)\n",
    "\n",
    "# Optimization loop\n",
    "key = jax.random.PRNGKey(0)\n",
    "m = np.array(0.)  # initial value for gradient descent\n",
    "for i in tqdm(range(100)):\n",
    "    key, subkey = jax.random.split(key)\n",
    "    q0 = jax.random.normal(key=subkey, shape=(model.N,))\n",
    "    key, subkey = jax.random.split(key)\n",
    "    (l, s), dl = dloss(m, subkey, q0)\n",
    "    print(f'Step {i:2d}: E[T | M={m:7.03f}] ~= {s.mean():7.03f} (loss = {l:9.4f})')\n",
    "    m = m - 0.1 * dl"
   ]
  }
 ],
 "metadata": {
  "kernelspec": {
   "display_name": "Python 3 (ipykernel)",
   "language": "python",
   "name": "python3"
  },
  "language_info": {
   "codemirror_mode": {
    "name": "ipython",
    "version": 3
   },
   "file_extension": ".py",
   "mimetype": "text/x-python",
   "name": "python",
   "nbconvert_exporter": "python",
   "pygments_lexer": "ipython3",
   "version": "3.9.5"
  }
 },
 "nbformat": 4,
 "nbformat_minor": 5
}
